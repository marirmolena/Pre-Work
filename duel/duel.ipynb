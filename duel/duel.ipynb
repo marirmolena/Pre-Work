{
 "cells": [
  {
   "cell_type": "markdown",
   "metadata": {},
   "source": [
    "# Duel of sorcerers\n",
    "You are witnessing an epic battle between two powerful sorcerers: Gandalf and Saruman. Each sorcerer has 10 spells of variable power in their mind and they are going to throw them one after the other. The winner of the duel will be the one who wins more of those clashes between spells. Spells are represented as a list of 10 integers whose value equals the power of the spell.\n",
    "```\n",
    "gandalf = [10, 11, 13, 30, 22, 11, 10, 33, 22, 22]\n",
    "saruman = [23, 66, 12, 43, 12, 10, 44, 23, 12, 17]\n",
    "```\n",
    "For example:\n",
    "1. The first clash is won by Saruman: 10 against 23, wins 23\n",
    "2. The second clash wins Saruman: 11 against 66, wins 66\n",
    "3. etc.\n",
    "\n",
    "\n",
    "You will create two variables, one for each sorcerer, where the sum of clashes won will be stored. Depending on which variable is greater at the end of the duel, you will show one of the following three results on the screen:\n",
    "* Gandalf wins\n",
    "* Saruman wins\n",
    "* Tie\n",
    "\n",
    "<img src=\"images/content_lightning_bolt_big.jpg\" width=\"400\">"
   ]
  },
  {
   "cell_type": "markdown",
   "metadata": {},
   "source": [
    "## Solution"
   ]
  },
  {
   "cell_type": "code",
   "execution_count": 7,
   "metadata": {},
   "outputs": [],
   "source": [
    "# Assign spell power lists to variables\n",
    "\n",
    "gandalf = [10, 11, 13, 30, 22, 11, 10, 33, 22, 22]\n",
    "saruman = [23, 66, 12, 43, 12, 10, 44, 23, 12, 17]"
   ]
  },
  {
   "cell_type": "code",
   "execution_count": 8,
   "metadata": {},
   "outputs": [],
   "source": [
    "# Assign 0 to each variable that stores the victories\n",
    "\n",
    "victories_gandalf = 0\n",
    "victories_saruman = 0\n",
    "ties = 0\n",
    "battle = 0\n"
   ]
  },
  {
   "cell_type": "code",
   "execution_count": 15,
   "metadata": {},
   "outputs": [
    {
     "name": "stdout",
     "output_type": "stream",
     "text": [
      "5\n",
      "4\n"
     ]
    }
   ],
   "source": [
    "# Execution of spell clashes\n",
    "\n",
    "for i in range (0,9):\n",
    "    if gandalf[i] > saruman[i]:\n",
    "        victories_gandalf += 1    \n",
    "    if gandalf[i] < saruman[i]:\n",
    "        victories_saruman += 1    \n",
    "    if gandalf[i] == saruman[i]:\n",
    "        ties += 1\n",
    "        \n",
    "print(victories_gandalf)\n",
    "\n",
    "print(victories_saruman)\n",
    "\n"
   ]
  },
  {
   "cell_type": "code",
   "execution_count": 17,
   "metadata": {},
   "outputs": [
    {
     "name": "stdout",
     "output_type": "stream",
     "text": [
      "Gandalf won 5 rounds, so he is the winner\n"
     ]
    }
   ],
   "source": [
    "# We check who has won, do not forget the possibility of a draw.\n",
    "\n",
    "# Print the result based on the winner.\n",
    "\n",
    "print (\"Gandalf won\", victories_gandalf, \"rounds, so he is the winner\")\n"
   ]
  },
  {
   "cell_type": "markdown",
   "metadata": {},
   "source": [
    "## Goals\n",
    "\n",
    "1. Treatment of lists\n",
    "2. Use of **for loop**\n",
    "3. Use of conditional **if-elif-else**\n",
    "4. Use of the functions **range(), len()**\n",
    "5. Print"
   ]
  },
  {
   "cell_type": "markdown",
   "metadata": {},
   "source": [
    "## Bonus\n",
    "\n",
    "1. Spells now have a name and there is a dictionary that relates that name to a power.\n",
    "2. A sorcerer wins if he succeeds in winning 3 spell clashes in a row.\n",
    "3. Average of each of the spell lists.\n",
    "4. Standard deviation of each of the spell lists.\n",
    "\n",
    "```\n",
    "POWER = {\n",
    "    'Fireball': 50, \n",
    "    'Lightning bolt': 40, \n",
    "    'Magic arrow': 10, \n",
    "    'Black Tentacles': 25, \n",
    "    'Contagion': 45\n",
    "}\n",
    "\n",
    "gandalf = ['Fireball', 'Lightning bolt', 'Lightning bolt', 'Magic arrow', 'Fireball', \n",
    "           'Magic arrow', 'Lightning bolt', 'Fireball', 'Fireball', 'Fireball']\n",
    "saruman = ['Contagion', 'Contagion', 'Black Tentacles', 'Fireball', 'Black Tentacles', \n",
    "           'Lightning bolt', 'Magic arrow', 'Contagion', 'Magic arrow', 'Magic arrow']\n",
    "```\n",
    "\n",
    "Good luck!"
   ]
  },
  {
   "cell_type": "code",
   "execution_count": 18,
   "metadata": {},
   "outputs": [],
   "source": [
    "# 1. Spells now have a name and there is a dictionary that relates that name to a power.\n",
    "# variables\n",
    "\n",
    "POWER = {\n",
    "    'Fireball': 50, 'Lightning bolt': 40, 'Magic arrow': 10, 'Black Tentacles': 25, 'Contagion': 45\n",
    "}\n",
    "\n",
    "gandalf = ['Fireball', 'Lightning bolt', 'Lightning bolt', 'Magic arrow', 'Fireball', \n",
    "           'Magic arrow', 'Lightning bolt', 'Fireball', 'Magic arrow', 'Fireball']\n",
    "saruman = ['Contagion', 'Contagion', 'Black Tentacles', 'Fireball', 'Black Tentacles', \n",
    "           'Lightning bolt', 'Magic arrow', 'Contagion', 'Magic arrow', 'Magic arrow']"
   ]
  },
  {
   "cell_type": "code",
   "execution_count": 29,
   "metadata": {},
   "outputs": [],
   "source": [
    "# Assign spell power lists to variables\n",
    "\n",
    "gandalf = [50, 40, 40, 10, 50, 10, 40, 50, 10, 50]\n",
    "saruman = [45, 45, 25, 50, 25, 40, 10, 45, 10, 10]\n",
    "\n"
   ]
  },
  {
   "cell_type": "code",
   "execution_count": 34,
   "metadata": {},
   "outputs": [
    {
     "name": "stdout",
     "output_type": "stream",
     "text": [
      "8\n",
      "6\n"
     ]
    }
   ],
   "source": [
    "# 2. A sorcerer wins if he succeeds in winning 3 spell clashes in a row.\n",
    "\n",
    "\n",
    "# Execution of spell clashes\n",
    "\n",
    "victories_gandalf = 0\n",
    "victories_saruman = 0\n",
    "\n",
    "for i in range (0,2):\n",
    "    if gandalf[i] > saruman[i]:\n",
    "        victories_gandalf += 1    \n",
    "    if gandalf[i] < saruman[i]:\n",
    "        victories_saruman += 1\n",
    "        for i in range (1,3):\n",
    "            if gandalf[i] > saruman[i]:\n",
    "                victories_gandalf += 1    \n",
    "            if gandalf[i] < saruman[i]:\n",
    "                victories_saruman += 1\n",
    "                for i in range (2,4):\n",
    "                    if gandalf[i] > saruman[i]:\n",
    "                        victories_gandalf += 1    \n",
    "                    if gandalf[i] < saruman[i]:\n",
    "                        victories_saruman += 1\n",
    "                        for i in range (3,5):\n",
    "                            if gandalf[i] > saruman[i]:\n",
    "                                victories_gandalf += 1    \n",
    "                            if gandalf[i] < saruman[i]:\n",
    "                                victories_saruman += 1\n",
    "                                for i in range (4,6):\n",
    "                                    if gandalf[i] > saruman[i]:\n",
    "                                        victories_gandalf += 1    \n",
    "                                    if gandalf[i] < saruman[i]:\n",
    "                                        victories_saruman += 1\n",
    "                                        for i in range (5,7):\n",
    "                                            if gandalf[i] > saruman[i]:\n",
    "                                                victories_gandalf += 1    \n",
    "                                            if gandalf[i] < saruman[i]:\n",
    "                                                victories_saruman += 1\n",
    "                                                for i in range (6,8):\n",
    "                                                    if gandalf[i] > saruman[i]:\n",
    "                                                        victories_gandalf += 1    \n",
    "                                                    if gandalf[i] < saruman[i]:\n",
    "                                                        victories_saruman += 1\n",
    "                                                        for i in range (7,9):\n",
    "                                                            if gandalf[i] > saruman[i]:\n",
    "                                                                victories_gandalf += 1    \n",
    "                                                            if gandalf[i] < saruman[i]:\n",
    "                                                                victories_saruman += 1\n",
    "\n",
    "\n",
    "\n",
    "# check for 3 wins in a row\n",
    "\n",
    "\n",
    "# check the winner\n",
    "\n",
    "print(victories_gandalf)\n",
    "\n",
    "print(victories_saruman)\n"
   ]
  },
  {
   "cell_type": "code",
   "execution_count": 7,
   "metadata": {},
   "outputs": [
    {
     "name": "stdout",
     "output_type": "stream",
     "text": [
      "35.0\n",
      "30.5\n"
     ]
    }
   ],
   "source": [
    "# 3. Average of each of the spell lists.\n",
    "\n",
    "gandalf.values()\n",
    "\n",
    "\n",
    "\n",
    "average_gandalf = sum(gandalf)/len(gandalf) \n",
    "\n",
    "print(average_gandalf)\n",
    "\n",
    "average_saruman = sum(saruman)/len(saruman) \n",
    "\n",
    "print(average_saruman)\n"
   ]
  },
  {
   "cell_type": "code",
   "execution_count": 6,
   "metadata": {},
   "outputs": [
    {
     "name": "stdout",
     "output_type": "stream",
     "text": [
      "17.795130420052185\n",
      "16.40629960309962\n"
     ]
    }
   ],
   "source": [
    "# 4. Standard deviation of each of the spell lists.\n",
    "\n",
    "from statistics import mean\n",
    "\n",
    "gandalf = [50, 40, 40, 10, 50, 10, 40, 50, 10, 50]\n",
    "saruman = [45, 45, 25, 50, 25, 40, 10, 45, 10, 10]\n",
    "\n",
    "print(statistics.stdev(gandalf))\n",
    "\n",
    "print(statistics.stdev(saruman))"
   ]
  },
  {
   "cell_type": "code",
   "execution_count": null,
   "metadata": {},
   "outputs": [],
   "source": []
  }
 ],
 "metadata": {
  "kernelspec": {
   "display_name": "Python 3",
   "language": "python",
   "name": "python3"
  },
  "language_info": {
   "codemirror_mode": {
    "name": "ipython",
    "version": 3
   },
   "file_extension": ".py",
   "mimetype": "text/x-python",
   "name": "python",
   "nbconvert_exporter": "python",
   "pygments_lexer": "ipython3",
   "version": "3.7.3"
  }
 },
 "nbformat": 4,
 "nbformat_minor": 2
}
